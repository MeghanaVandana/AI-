{
  "nbformat": 4,
  "nbformat_minor": 0,
  "metadata": {
    "colab": {
      "provenance": []
    },
    "kernelspec": {
      "name": "python3",
      "display_name": "Python 3"
    },
    "language_info": {
      "name": "python"
    }
  },
  "cells": [
    {
      "cell_type": "code",
      "source": [
        "import random\n",
        "import numpy as np\n",
        "\n",
        "# City coordinates\n",
        "cities = {'A': (100, 300), 'B': (200, 130), 'C': (300, 500), 'D': (500, 390),\n",
        "          'E': (700, 300), 'F': (900, 600), 'G': (800, 950), 'H': (600, 560),\n",
        "          'I': (350, 550), 'J': (270, 350)}\n",
        "\n",
        "# Function to calculate Euclidean distance between two cities\n",
        "def distance(city1, city2):\n",
        "    return np.linalg.norm(np.array(city1) - np.array(city2))\n",
        "\n",
        "# Fitness function: total distance of the tour\n",
        "def fitness(tour):\n",
        "    total_distance = 0\n",
        "    for i in range(len(tour) - 1):\n",
        "        total_distance += distance(cities[tour[i]], cities[tour[i+1]])\n",
        "    total_distance += distance(cities[tour[-1]], cities[tour[0]])  # Return to starting point\n",
        "    return total_distance\n",
        "\n",
        "# Create initial population of tours (randomly shuffled cities)\n",
        "def create_population(pop_size, city_list):\n",
        "    population = []\n",
        "    for _ in range(pop_size):\n",
        "        tour = city_list[:]\n",
        "        random.shuffle(tour)\n",
        "        population.append(tour)\n",
        "    return population\n",
        "\n",
        "# Selection: choose the best tours\n",
        "def selection(population, fitnesses, num_best):\n",
        "    fitness_pairs = list(zip(population, fitnesses))\n",
        "    fitness_pairs.sort(key=lambda x: x[1])  # Sort by fitness (total distance)\n",
        "    selected = [tour for tour, fitness in fitness_pairs[:num_best]]\n",
        "    return selected\n",
        "\n",
        "# Crossover: combine two tours to create a child tour\n",
        "def crossover(parent1, parent2):\n",
        "    start = random.randint(0, len(parent1) - 2)\n",
        "    end = random.randint(start + 1, len(parent1) - 1)\n",
        "    child = [None] * len(parent1)\n",
        "    child[start:end] = parent1[start:end]\n",
        "    pointer = 0\n",
        "    for gene in parent2:\n",
        "        if gene not in child:\n",
        "            while child[pointer] is not None:\n",
        "                pointer += 1\n",
        "            child[pointer] = gene\n",
        "    return child\n",
        "\n",
        "# Mutation: randomly swap two cities in the tour\n",
        "def mutate(tour, mutation_rate):\n",
        "    if random.random() < mutation_rate:\n",
        "        i, j = random.sample(range(len(tour)), 2)\n",
        "        tour[i], tour[j] = tour[j], tour[i]\n",
        "    return tour\n",
        "\n",
        "# Main Genetic Algorithm\n",
        "def genetic_algorithm(cities, pop_size=100, generations=500, mutation_rate=0.01):\n",
        "    city_list = list(cities.keys())\n",
        "    population = create_population(pop_size, city_list)\n",
        "    for gen in range(generations):\n",
        "        fitnesses = [fitness(tour) for tour in population]\n",
        "        selected = selection(population, fitnesses, num_best=pop_size // 2)\n",
        "        new_population = []\n",
        "        for i in range(0, len(selected) - 1, 2):\n",
        "            parent1, parent2 = selected[i], selected[i + 1]\n",
        "            child1 = mutate(crossover(parent1, parent2), mutation_rate)\n",
        "            child2 = mutate(crossover(parent2, parent1), mutation_rate)\n",
        "            new_population.extend([child1, child2])\n",
        "        population = new_population\n",
        "    best_tour = min(population, key=lambda tour: fitness(tour))\n",
        "    return best_tour, fitness(best_tour)\n",
        "\n",
        "# Solve the TSP\n",
        "best_tour, shortest_distance = genetic_algorithm(cities)\n",
        "print(f\"Shortest distance: {shortest_distance:.2f} miles\")\n",
        "print(f\"Sequence order: {' -> '.join(best_tour)} -> A\")\n"
      ],
      "metadata": {
        "colab": {
          "base_uri": "https://localhost:8080/"
        },
        "id": "s75bdFoAYzSJ",
        "outputId": "30bae27f-2a99-4787-be32-429fb2850464"
      },
      "execution_count": null,
      "outputs": [
        {
          "output_type": "stream",
          "name": "stdout",
          "text": [
            "Shortest distance: 3114.42 miles\n",
            "Sequence order: D -> I -> J -> B -> A -> C -> E -> G -> F -> H -> A\n"
          ]
        }
      ]
    }
  ]
}
